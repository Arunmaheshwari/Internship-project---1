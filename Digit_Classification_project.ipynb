{
 "cells": [
  {
   "cell_type": "markdown",
   "id": "0a7d3374-ae81-4ee8-92ed-eeee8c7ae2f4",
   "metadata": {},
   "source": [
    "# Import necessary libraries\n"
   ]
  },
  {
   "cell_type": "code",
   "execution_count": 1,
   "id": "440fa2b7-07a0-435b-b10d-2dcf744bcf40",
   "metadata": {},
   "outputs": [],
   "source": [
    "import tensorflow as tf\n",
    "from tensorflow.keras.datasets import mnist\n",
    "from tensorflow.keras.models import Sequential\n",
    "from tensorflow.keras.layers import Dense, Flatten\n",
    "from tensorflow.keras.utils import to_categorical"
   ]
  },
  {
   "cell_type": "markdown",
   "id": "60889a56-7c4f-4c68-b05e-f5d62585e948",
   "metadata": {},
   "source": [
    "# Load the MNIST dataset\n"
   ]
  },
  {
   "cell_type": "code",
   "execution_count": 2,
   "id": "1e0da6bb-2b22-477f-8258-67b7212e9e66",
   "metadata": {},
   "outputs": [],
   "source": [
    "(x_train, y_train), (x_test, y_test) = mnist.load_data()\n"
   ]
  },
  {
   "cell_type": "markdown",
   "id": "6ae2a795-11a4-4540-958b-0df691862429",
   "metadata": {},
   "source": [
    "# Preprocess the data"
   ]
  },
  {
   "cell_type": "code",
   "execution_count": 3,
   "id": "50da071f-61bb-44c5-98e5-97626841670d",
   "metadata": {},
   "outputs": [],
   "source": [
    "x_train = x_train / 255.0\n",
    "x_test = x_test / 255.0"
   ]
  },
  {
   "cell_type": "markdown",
   "id": "dc2dac50-fcff-443f-85dc-56a0384a4a66",
   "metadata": {},
   "source": [
    "# Flatten the images"
   ]
  },
  {
   "cell_type": "code",
   "execution_count": 5,
   "id": "7a8fe11a-2489-4aa0-a26c-8b0269f319c7",
   "metadata": {},
   "outputs": [],
   "source": [
    "x_train = x_train.reshape((x_train.shape[0], -1))\n",
    "x_test = x_test.reshape((x_test.shape[0], -1))"
   ]
  },
  {
   "cell_type": "markdown",
   "id": "a3af6621-ea7d-4071-a9f7-37ef2d1dc31e",
   "metadata": {},
   "source": [
    "# One-hot encode the labels"
   ]
  },
  {
   "cell_type": "code",
   "execution_count": 6,
   "id": "82ffbb6f-bf84-4ba9-ad56-40e00c749daa",
   "metadata": {},
   "outputs": [],
   "source": [
    "y_train = to_categorical(y_train, 10)\n",
    "y_test = to_categorical(y_test, 10)"
   ]
  },
  {
   "cell_type": "markdown",
   "id": "f511c320-55d1-4837-aba1-9e2fed0e0ddf",
   "metadata": {},
   "source": [
    "# Build the neural network model"
   ]
  },
  {
   "cell_type": "code",
   "execution_count": 7,
   "id": "3da98594-d78c-4410-bda0-8a40422c3331",
   "metadata": {},
   "outputs": [],
   "source": [
    "model = Sequential([\n",
    "    Flatten(input_shape=(784,)),\n",
    "    Dense(128, activation='relu'),\n",
    "    Dense(10, activation='softmax')\n",
    "])\n"
   ]
  },
  {
   "cell_type": "markdown",
   "id": "12fe2c84-a1b1-435a-8a73-3bc653434715",
   "metadata": {},
   "source": [
    "# Compile the model"
   ]
  },
  {
   "cell_type": "code",
   "execution_count": 8,
   "id": "3c79a6ef-3a61-4e7b-a657-9ceb88537c51",
   "metadata": {},
   "outputs": [],
   "source": [
    "model.compile(optimizer='adam', loss='categorical_crossentropy', metrics=['accuracy'])"
   ]
  },
  {
   "cell_type": "markdown",
   "id": "701dac2d-9b1d-4d86-9948-58ac20fc0777",
   "metadata": {},
   "source": [
    "# Train the model"
   ]
  },
  {
   "cell_type": "code",
   "execution_count": 9,
   "id": "973a3fb3-9ebe-4183-9698-b72f6e3eb307",
   "metadata": {},
   "outputs": [
    {
     "name": "stdout",
     "output_type": "stream",
     "text": [
      "Epoch 1/5\n",
      "1500/1500 [==============================] - 6s 3ms/step - loss: 0.2892 - accuracy: 0.9178 - val_loss: 0.1602 - val_accuracy: 0.9559\n",
      "Epoch 2/5\n",
      "1500/1500 [==============================] - 5s 3ms/step - loss: 0.1280 - accuracy: 0.9624 - val_loss: 0.1122 - val_accuracy: 0.9666\n",
      "Epoch 3/5\n",
      "1500/1500 [==============================] - 6s 4ms/step - loss: 0.0864 - accuracy: 0.9743 - val_loss: 0.1006 - val_accuracy: 0.9705\n",
      "Epoch 4/5\n",
      "1500/1500 [==============================] - 5s 4ms/step - loss: 0.0648 - accuracy: 0.9804 - val_loss: 0.0936 - val_accuracy: 0.9724\n",
      "Epoch 5/5\n",
      "1500/1500 [==============================] - 5s 3ms/step - loss: 0.0498 - accuracy: 0.9850 - val_loss: 0.0930 - val_accuracy: 0.9732\n"
     ]
    },
    {
     "data": {
      "text/plain": [
       "<keras.src.callbacks.History at 0x2c92503c250>"
      ]
     },
     "execution_count": 9,
     "metadata": {},
     "output_type": "execute_result"
    }
   ],
   "source": [
    "model.fit(x_train, y_train, epochs=5, batch_size=32, validation_split=0.2)\n"
   ]
  },
  {
   "cell_type": "markdown",
   "id": "e39d11c0-aacc-43d7-aa20-9250c9115c27",
   "metadata": {},
   "source": [
    "# Evaluate the model on the test set"
   ]
  },
  {
   "cell_type": "code",
   "execution_count": 10,
   "id": "196d47a2-287e-45aa-821a-8345bf5331e7",
   "metadata": {},
   "outputs": [
    {
     "name": "stdout",
     "output_type": "stream",
     "text": [
      "313/313 [==============================] - 1s 2ms/step - loss: 0.0836 - accuracy: 0.9739\n",
      "Test accuracy: 0.9739000201225281\n"
     ]
    }
   ],
   "source": [
    "test_loss, test_acc = model.evaluate(x_test, y_test)\n",
    "print(f'Test accuracy: {test_acc}')"
   ]
  },
  {
   "cell_type": "markdown",
   "id": "58cbaa7b-e27d-4022-a989-5d5edc698f12",
   "metadata": {},
   "source": [
    "# Make predictions on a sample image"
   ]
  },
  {
   "cell_type": "code",
   "execution_count": 11,
   "id": "4a4179cc-3207-4188-8ef2-e03cceca2580",
   "metadata": {},
   "outputs": [
    {
     "name": "stdout",
     "output_type": "stream",
     "text": [
      "1/1 [==============================] - 0s 134ms/step\n",
      "Predicted label: 7\n"
     ]
    }
   ],
   "source": [
    "import numpy as np\n",
    "sample_image = x_test[0].reshape((1, 784))\n",
    "prediction = model.predict(sample_image)\n",
    "predicted_label = np.argmax(prediction)\n",
    "print(f'Predicted label: {predicted_label}')"
   ]
  },
  {
   "cell_type": "code",
   "execution_count": null,
   "id": "f55a05c5-0b66-4d09-ae7f-6b861f1a48e7",
   "metadata": {},
   "outputs": [],
   "source": [
    "# This project has done here. Now we are able to predict handwritten digits of MNIST dataset.\n",
    "# Thank you"
   ]
  }
 ],
 "metadata": {
  "kernelspec": {
   "display_name": "Python 3 (ipykernel)",
   "language": "python",
   "name": "python3"
  },
  "language_info": {
   "codemirror_mode": {
    "name": "ipython",
    "version": 3
   },
   "file_extension": ".py",
   "mimetype": "text/x-python",
   "name": "python",
   "nbconvert_exporter": "python",
   "pygments_lexer": "ipython3",
   "version": "3.11.4"
  }
 },
 "nbformat": 4,
 "nbformat_minor": 5
}
